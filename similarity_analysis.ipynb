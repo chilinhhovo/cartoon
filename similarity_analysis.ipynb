{
 "cells": [
  {
   "cell_type": "code",
   "execution_count": 5,
   "id": "d3a310ee-ed68-49bc-b10d-ab0704cfe3d3",
   "metadata": {},
   "outputs": [
    {
     "name": "stdout",
     "output_type": "stream",
     "text": [
      "✅ Saved to 'contests_with_model_winner.csv'\n"
     ]
    }
   ],
   "source": [
    "import pandas as pd\n",
    "\n",
    "# Load data\n",
    "df = pd.read_csv(\"semantic_similarity_detailed.csv\")\n",
    "\n",
    "# Pivot to wide format so each model has a column of similarity scores\n",
    "pivot_df = df.pivot_table(\n",
    "    index=[\"contest\", \"human_caption\"],\n",
    "    columns=\"ai_model\",\n",
    "    values=\"semantic_similarity\",\n",
    "    aggfunc=\"max\"  # or mean, depending on your use case\n",
    ").reset_index()\n",
    "\n",
    "# Rename columns to clean them up\n",
    "pivot_df.columns.name = None  # remove the 'ai_model' column label\n",
    "pivot_df = pivot_df.rename(columns={\n",
    "    \"chatgpt (gpt-4o)\": \"chatgpt\",\n",
    "    \"claude\": \"claude\"\n",
    "})\n",
    "\n",
    "# Determine which model performed better\n",
    "def determine_winner(row):\n",
    "    if row[\"chatgpt\"] > row[\"claude\"]:\n",
    "        return \"chatgpt\", \"ChatGPT aligned more closely with human captions\"\n",
    "    elif row[\"chatgpt\"] < row[\"claude\"]:\n",
    "        return \"claude\", \"Claude aligned more closely with human captions\"\n",
    "    else:\n",
    "        return \"tie\", \"Both models performed equally\"\n",
    "\n",
    "# Apply function\n",
    "pivot_df[[\"Who_won\", \"Description\"]] = pivot_df.apply(determine_winner, axis=1, result_type=\"expand\")\n",
    "\n",
    "# Save result\n",
    "pivot_df.to_csv(\"contests_with_model_winner.csv\", index=False)\n",
    "print(\"✅ Saved to 'contests_with_model_winner.csv'\")\n"
   ]
  },
  {
   "cell_type": "code",
   "execution_count": null,
   "id": "62db96c4-1ded-4db2-a026-4236a910cc11",
   "metadata": {},
   "outputs": [],
   "source": []
  }
 ],
 "metadata": {
  "kernelspec": {
   "display_name": "Python 3",
   "language": "python",
   "name": "python3"
  },
  "language_info": {
   "codemirror_mode": {
    "name": "ipython",
    "version": 3
   },
   "file_extension": ".py",
   "mimetype": "text/x-python",
   "name": "python",
   "nbconvert_exporter": "python",
   "pygments_lexer": "ipython3",
   "version": "3.10.12"
  }
 },
 "nbformat": 4,
 "nbformat_minor": 5
}
