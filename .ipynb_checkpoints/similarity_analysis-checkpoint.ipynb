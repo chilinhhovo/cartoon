{
 "cells": [
  {
   "cell_type": "code",
   "execution_count": 1,
   "id": "d3a310ee-ed68-49bc-b10d-ab0704cfe3d3",
   "metadata": {},
   "outputs": [
    {
     "name": "stdout",
     "output_type": "stream",
     "text": [
      "✅ Saved to 'contests_with_model_winner.csv'\n"
     ]
    }
   ],
   "source": [
    "import pandas as pd\n",
    "\n",
    "# Load the CSV\n",
    "df = pd.read_csv(\"contests_with_biggest_model_difference.csv\")\n",
    "\n",
    "# Determine which model had higher semantic similarity\n",
    "def determine_winner(row):\n",
    "    if row[\"ChatGPT (gpt-4o)\"] > row[\"Claude\"]:\n",
    "        return \"ChatGPT\", \"ChatGPT aligned more closely with human captions\"\n",
    "    elif row[\"ChatGPT (gpt-4o)\"] < row[\"Claude\"]:\n",
    "        return \"Claude\", \"Claude aligned more closely with human captions\"\n",
    "    else:\n",
    "        return \"Tie\", \"Both models performed equally\"\n",
    "\n",
    "# Apply function and create new columns\n",
    "df[[\"Who_won\", \"Description\"]] = df.apply(determine_winner, axis=1, result_type=\"expand\")\n",
    "\n",
    "# Save updated file\n",
    "df.to_csv(\"contests_with_model_winner.csv\", index=False)\n",
    "print(\"✅ Saved to 'contests_with_model_winner.csv'\")\n"
   ]
  },
  {
   "cell_type": "code",
   "execution_count": null,
   "id": "62db96c4-1ded-4db2-a026-4236a910cc11",
   "metadata": {},
   "outputs": [],
   "source": []
  }
 ],
 "metadata": {
  "kernelspec": {
   "display_name": "Python 3 (ipykernel)",
   "language": "python",
   "name": "python3"
  },
  "language_info": {
   "codemirror_mode": {
    "name": "ipython",
    "version": 3
   },
   "file_extension": ".py",
   "mimetype": "text/x-python",
   "name": "python",
   "nbconvert_exporter": "python",
   "pygments_lexer": "ipython3",
   "version": "3.10.12"
  }
 },
 "nbformat": 4,
 "nbformat_minor": 5
}
