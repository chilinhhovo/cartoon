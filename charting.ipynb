{
 "cells": [
  {
   "cell_type": "code",
   "execution_count": 10,
   "metadata": {},
   "outputs": [
    {
     "name": "stderr",
     "output_type": "stream",
     "text": [
      "/var/folders/s2/1r_lbpts7pvcd7p7h17w62tm0000gn/T/ipykernel_57182/2557393994.py:31: UserWarning: Glyph 5601 (\\N{CANADIAN SYLLABICS CARRIER THA}) missing from font(s) Helvetica Neue.\n",
      "  plt.tight_layout()\n",
      "/var/folders/s2/1r_lbpts7pvcd7p7h17w62tm0000gn/T/ipykernel_57182/2557393994.py:32: UserWarning: Glyph 5601 (\\N{CANADIAN SYLLABICS CARRIER THA}) missing from font(s) Helvetica Neue.\n",
      "  plt.savefig(\"semantic_similarity_comparison_all_contests.svg\", format=\"svg\")\n"
     ]
    },
    {
     "name": "stdout",
     "output_type": "stream",
     "text": [
      "✅ Combined SVG chart saved as 'semantic_similarity_comparison_all_contests.svg'\n"
     ]
    }
   ],
   "source": [
    "# === 2️⃣ Combined Horizontal Chart (also SVG) ===\n",
    "\n",
    "fig, ax = plt.subplots(figsize=(10, len(df) * 0.25), dpi=300)\n",
    "y = range(len(df))\n",
    "bar_width = 0.4\n",
    "\n",
    "# Horizontal grouped bars\n",
    "ax.barh([i - bar_width/2 for i in y], df[\"chatgpt\"], height=bar_width, label=\"ChatGPT\", color=\"skyblue\")\n",
    "ax.barh([i + bar_width/2 for i in y], df[\"claude\"], height=bar_width, label=\"Claude\", color=\"lightcoral\")\n",
    "\n",
    "# Y-axis labels: contest ID + short human caption\n",
    "ax.set_yticks(y)\n",
    "ax.set_yticklabels(\n",
    "    [f\"{row['contest']}: {row['short_caption']}\" for _, row in df.iterrows()],\n",
    "    fontsize=6\n",
    ")\n",
    "\n",
    "# Title and axis styling\n",
    "ax.set_title(\"Semantic Similarity to Top Human Captions by Contest\", fontsize=12, pad=20)\n",
    "ax.set_xlim(0, 1)\n",
    "ax.set_xticks([])  # remove axis units\n",
    "ax.set_xlabel(\"Similarity to the funniest human’s caption\", fontsize=10)\n",
    "ax.legend(loc=\"lower right\")\n",
    "\n",
    "# Clean visuals\n",
    "ax.grid(False)\n",
    "for spine in ax.spines.values():\n",
    "    spine.set_visible(False)\n",
    "\n",
    "# Save as SVG\n",
    "plt.tight_layout()\n",
    "plt.savefig(\"semantic_similarity_comparison_all_contests.svg\", format=\"svg\")\n",
    "plt.close()\n",
    "\n",
    "print(\"✅ Combined SVG chart saved as 'semantic_similarity_comparison_all_contests.svg'\")\n"
   ]
  },
  {
   "cell_type": "code",
   "execution_count": 15,
   "metadata": {},
   "outputs": [
    {
     "name": "stderr",
     "output_type": "stream",
     "text": [
      "posx and posy should be finite values\n",
      "posx and posy should be finite values\n",
      "posx and posy should be finite values\n",
      "/var/folders/s2/1r_lbpts7pvcd7p7h17w62tm0000gn/T/ipykernel_57182/2597336190.py:47: UserWarning: Glyph 9835 (\\N{BEAMED EIGHTH NOTES}) missing from font(s) Helvetica Neue.\n",
      "  plt.savefig(f\"{output_dir}/contest_{contest_id}.svg\", format=\"svg\")\n",
      "/var/folders/s2/1r_lbpts7pvcd7p7h17w62tm0000gn/T/ipykernel_57182/2597336190.py:47: UserWarning: Glyph 5601 (\\N{CANADIAN SYLLABICS CARRIER THA}) missing from font(s) Helvetica Neue.\n",
      "  plt.savefig(f\"{output_dir}/contest_{contest_id}.svg\", format=\"svg\")\n",
      "posx and posy should be finite values\n",
      "posx and posy should be finite values\n",
      "posx and posy should be finite values\n",
      "posx and posy should be finite values\n",
      "posx and posy should be finite values\n",
      "posx and posy should be finite values\n"
     ]
    }
   ],
   "source": [
    "for _, row in df.iterrows():\n",
    "    contest_id = row[\"contest\"]\n",
    "    caption = row[\"top_human_caption\"]\n",
    "    winner = row[\"Who_won\"].capitalize()\n",
    "    sim_chatgpt = row[\"chatgpt\"]\n",
    "    sim_claude = row[\"claude\"]\n",
    "    values = [sim_chatgpt, sim_claude]\n",
    "    models = [\"ChatGPT\", \"Claude\"]\n",
    "\n",
    "    # Calculate similarity difference\n",
    "    diff = sim_chatgpt - sim_claude\n",
    "    diff_label = f\"+{abs(diff):.2f}\" if diff > 0 else f\"-{abs(diff):.2f}\"\n",
    "    winner_index = 0 if diff > 0 else 1\n",
    "\n",
    "    # Create figure\n",
    "    fig, ax = plt.subplots(figsize=(6, 3), dpi=300)\n",
    "\n",
    "    # Plot horizontal bars\n",
    "    bars = ax.barh(models, values, height=0.3, color=[\"skyblue\", \"lightcoral\"])\n",
    "    ax.set_xlim(0, 1)\n",
    "\n",
    "    # Clean visuals\n",
    "    ax.grid(False)\n",
    "    for spine in ax.spines.values():\n",
    "        spine.set_visible(False)\n",
    "    ax.set_xticks([])\n",
    "\n",
    "    # Add diff label next to winner\n",
    "    ax.text(\n",
    "        values[winner_index] + 0.01,\n",
    "        winner_index,\n",
    "        diff_label,\n",
    "        va=\"center\",\n",
    "        fontsize=8,\n",
    "        color=\"black\"\n",
    "    )\n",
    "\n",
    "    # === Manually place title and subtitle ===\n",
    "    fig.text(0.5, 0.96, f\"Contest {contest_id}: {winner} won\", ha='center', fontsize=12, weight='bold')\n",
    "    fig.text(0.5, 0.90, f'\"{caption}\"', ha='center', fontsize=9)\n",
    "\n",
    "    # Y-axis label size\n",
    "    ax.tick_params(axis='y', labelsize=10)\n",
    "\n",
    "    # Save clean layout\n",
    "    plt.tight_layout(rect=[0, 0, 1, 0.85])  # leave vertical room for title/subtitle\n",
    "    plt.savefig(f\"{output_dir}/contest_{contest_id}.svg\", format=\"svg\")\n",
    "    plt.close()\n"
   ]
  }
 ],
 "metadata": {
  "kernelspec": {
   "display_name": "Python 3",
   "language": "python",
   "name": "python3"
  },
  "language_info": {
   "codemirror_mode": {
    "name": "ipython",
    "version": 3
   },
   "file_extension": ".py",
   "mimetype": "text/x-python",
   "name": "python",
   "nbconvert_exporter": "python",
   "pygments_lexer": "ipython3",
   "version": "3.10.12"
  }
 },
 "nbformat": 4,
 "nbformat_minor": 2
}
